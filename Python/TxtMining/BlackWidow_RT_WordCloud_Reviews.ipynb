{
 "cells": [
  {
   "cell_type": "code",
   "execution_count": 1,
   "metadata": {},
   "outputs": [],
   "source": [
    "import pandas as pd\n",
    "import requests\n",
    "import re\n",
    "import time"
   ]
  },
  {
   "cell_type": "code",
   "execution_count": 2,
   "metadata": {},
   "outputs": [],
   "source": [
    "headers = {\n",
    "    'Referer': 'https://www.rottentomatoes.com/m/notebook/reviews?type=user',\n",
    "    'User-Agent': 'Mozilla/5.0 (Windows NT 10.0; Win64; x64) AppleWebKit/537.36 (KHTML, like Gecko) Chrome/74.0.3729.108 Safari/537.36',\n",
    "    'X-Requested-With': 'XMLHttpRequest',\n",
    "}"
   ]
  },
  {
   "cell_type": "code",
   "execution_count": 3,
   "metadata": {},
   "outputs": [],
   "source": [
    "s = requests.Session()"
   ]
  },
  {
   "cell_type": "code",
   "execution_count": 4,
   "metadata": {},
   "outputs": [],
   "source": [
    "def get_critic_reviews(url):\n",
    "    r = requests.get(url)\n",
    "    movie_id = re.findall(r'(?<=movieId\":\")(.*)(?=\",\"type)',r.text)[0]\n",
    "\n",
    "    api_url = f\"https://www.rottentomatoes.com/napi/movie/{movie_id}/criticsReviews/all\" #use reviews/userfor user reviews\n",
    "    \n",
    "    payload = {\n",
    "        'direction': 'next',\n",
    "        'endCursor': '',\n",
    "        'startCursor': '',\n",
    "    }\n",
    "    \n",
    "    review_data = []\n",
    "    \n",
    "    while True:\n",
    "        r = s.get(api_url, headers=headers, params=payload)\n",
    "        data = r.json()\n",
    "\n",
    "        if not data['pageInfo']['hasNextPage']:\n",
    "            break\n",
    "\n",
    "        payload['endCursor'] = data['pageInfo']['endCursor']\n",
    "        payload['startCursor'] = data['pageInfo']['startCursor'] if data['pageInfo'].get('startCursor') else ''\n",
    "\n",
    "        review_data.extend(data['reviews'])\n",
    "        time.sleep(1)\n",
    "    \n",
    "    return review_data"
   ]
  },
  {
   "cell_type": "code",
   "execution_count": 5,
   "metadata": {},
   "outputs": [],
   "source": [
    "def get_user_reviews(url):\n",
    "    r = requests.get(url)\n",
    "    movie_id = re.findall(r'(?<=movieId\":\")(.*)(?=\",\"type)',r.text)[0]\n",
    "\n",
    "    api_url = f\"https://www.rottentomatoes.com/napi/movie/{movie_id}/reviews/user\" #use reviews/userfor user reviews\n",
    "    \n",
    "    payload = {\n",
    "        'direction': 'next',\n",
    "        'endCursor': '',\n",
    "        'startCursor': '',\n",
    "    }\n",
    "    \n",
    "    review_data = []\n",
    "    \n",
    "    while True:\n",
    "        r = s.get(api_url, headers=headers, params=payload)\n",
    "        data = r.json()\n",
    "\n",
    "        if not data['pageInfo']['hasNextPage']:\n",
    "            break\n",
    "\n",
    "        payload['endCursor'] = data['pageInfo']['endCursor']\n",
    "        payload['startCursor'] = data['pageInfo']['startCursor'] if data['pageInfo'].get('startCursor') else ''\n",
    "\n",
    "        review_data.extend(data['reviews'])\n",
    "        time.sleep(1)\n",
    "    \n",
    "    return review_data"
   ]
  },
  {
   "cell_type": "code",
   "execution_count": 6,
   "metadata": {},
   "outputs": [],
   "source": [
    "#https://www.rottentomatoes.com/m/eternals/reviews\n",
    "#https://www.rottentomatoes.com/m/black_widow_2021\n",
    "data_c = get_critic_reviews('https://www.rottentomatoes.com/m/black_widow_2021/reviews')\n",
    "df_critics = pd.json_normalize(data_c)"
   ]
  },
  {
   "cell_type": "code",
   "execution_count": 7,
   "metadata": {},
   "outputs": [],
   "source": [
    "data_u = get_user_reviews('https://www.rottentomatoes.com/m/black_widow_2021/reviews')\n",
    "df_users = pd.json_normalize(data_u)"
   ]
  },
  {
   "cell_type": "code",
   "execution_count": 8,
   "metadata": {},
   "outputs": [
    {
     "data": {
      "text/html": [
       "<div>\n",
       "<style scoped>\n",
       "    .dataframe tbody tr th:only-of-type {\n",
       "        vertical-align: middle;\n",
       "    }\n",
       "\n",
       "    .dataframe tbody tr th {\n",
       "        vertical-align: top;\n",
       "    }\n",
       "\n",
       "    .dataframe thead th {\n",
       "        text-align: right;\n",
       "    }\n",
       "</style>\n",
       "<table border=\"1\" class=\"dataframe\">\n",
       "  <thead>\n",
       "    <tr style=\"text-align: right;\">\n",
       "      <th></th>\n",
       "      <th>creationDate</th>\n",
       "      <th>isFresh</th>\n",
       "      <th>isRotten</th>\n",
       "      <th>isRtUrl</th>\n",
       "      <th>isTop</th>\n",
       "      <th>reviewUrl</th>\n",
       "      <th>quote</th>\n",
       "      <th>reviewId</th>\n",
       "      <th>scoreOri</th>\n",
       "      <th>scoreSentiment</th>\n",
       "      <th>critic.name</th>\n",
       "      <th>critic.criticPictureUrl</th>\n",
       "      <th>critic.vanity</th>\n",
       "      <th>publication.id</th>\n",
       "      <th>publication.name</th>\n",
       "    </tr>\n",
       "  </thead>\n",
       "  <tbody>\n",
       "    <tr>\n",
       "      <th>0</th>\n",
       "      <td>Dec 20, 2021</td>\n",
       "      <td>True</td>\n",
       "      <td>False</td>\n",
       "      <td>False</td>\n",
       "      <td>False</td>\n",
       "      <td>https://www.hypable.com/black-widow-review/</td>\n",
       "      <td>Not only do we continue to see Natasha's physi...</td>\n",
       "      <td>2847923</td>\n",
       "      <td>4.5/5</td>\n",
       "      <td>POSITIVE</td>\n",
       "      <td>Karen Rought</td>\n",
       "      <td>http://resizing.flixster.com/q2sGNxdn_BTJb7E4s...</td>\n",
       "      <td>karen-rought</td>\n",
       "      <td>2837</td>\n",
       "      <td>Hypable</td>\n",
       "    </tr>\n",
       "    <tr>\n",
       "      <th>1</th>\n",
       "      <td>Nov 5, 2021</td>\n",
       "      <td>True</td>\n",
       "      <td>False</td>\n",
       "      <td>False</td>\n",
       "      <td>False</td>\n",
       "      <td>https://30flirtyfilm.substack.com/p/issue-51</td>\n",
       "      <td>But the bigger problem with the film is that i...</td>\n",
       "      <td>2837772</td>\n",
       "      <td></td>\n",
       "      <td>POSITIVE</td>\n",
       "      <td>Cate Young</td>\n",
       "      <td>http://resizing.flixster.com/Gte-H-97idAqD8Fn5...</td>\n",
       "      <td>cate-young</td>\n",
       "      <td>3956</td>\n",
       "      <td>Thirty, Flirty + Film</td>\n",
       "    </tr>\n",
       "    <tr>\n",
       "      <th>2</th>\n",
       "      <td>Oct 30, 2021</td>\n",
       "      <td>True</td>\n",
       "      <td>False</td>\n",
       "      <td>False</td>\n",
       "      <td>False</td>\n",
       "      <td>https://www.mychamplainvalley.com/community/mo...</td>\n",
       "      <td>A fabulous director and two awesome stars batt...</td>\n",
       "      <td>2836086</td>\n",
       "      <td>6</td>\n",
       "      <td>POSITIVE</td>\n",
       "      <td>Julia Swift</td>\n",
       "      <td>http://resizing.flixster.com/eFrdpBVieUiCnw4hh...</td>\n",
       "      <td>julia-swift</td>\n",
       "      <td>3340</td>\n",
       "      <td>My Champlain Valley</td>\n",
       "    </tr>\n",
       "  </tbody>\n",
       "</table>\n",
       "</div>"
      ],
      "text/plain": [
       "   creationDate  isFresh  isRotten  isRtUrl  isTop  \\\n",
       "0  Dec 20, 2021     True     False    False  False   \n",
       "1   Nov 5, 2021     True     False    False  False   \n",
       "2  Oct 30, 2021     True     False    False  False   \n",
       "\n",
       "                                           reviewUrl  \\\n",
       "0        https://www.hypable.com/black-widow-review/   \n",
       "1       https://30flirtyfilm.substack.com/p/issue-51   \n",
       "2  https://www.mychamplainvalley.com/community/mo...   \n",
       "\n",
       "                                               quote reviewId scoreOri  \\\n",
       "0  Not only do we continue to see Natasha's physi...  2847923    4.5/5   \n",
       "1  But the bigger problem with the film is that i...  2837772            \n",
       "2  A fabulous director and two awesome stars batt...  2836086        6   \n",
       "\n",
       "  scoreSentiment   critic.name  \\\n",
       "0       POSITIVE  Karen Rought   \n",
       "1       POSITIVE    Cate Young   \n",
       "2       POSITIVE   Julia Swift   \n",
       "\n",
       "                             critic.criticPictureUrl critic.vanity  \\\n",
       "0  http://resizing.flixster.com/q2sGNxdn_BTJb7E4s...  karen-rought   \n",
       "1  http://resizing.flixster.com/Gte-H-97idAqD8Fn5...    cate-young   \n",
       "2  http://resizing.flixster.com/eFrdpBVieUiCnw4hh...   julia-swift   \n",
       "\n",
       "  publication.id       publication.name  \n",
       "0           2837                Hypable  \n",
       "1           3956  Thirty, Flirty + Film  \n",
       "2           3340    My Champlain Valley  "
      ]
     },
     "execution_count": 8,
     "metadata": {},
     "output_type": "execute_result"
    }
   ],
   "source": [
    "df_critics.head(3)"
   ]
  },
  {
   "cell_type": "code",
   "execution_count": 9,
   "metadata": {
    "scrolled": true
   },
   "outputs": [],
   "source": [
    "#df_users.tail(3)"
   ]
  },
  {
   "cell_type": "code",
   "execution_count": 10,
   "metadata": {},
   "outputs": [
    {
     "data": {
      "text/html": [
       "<div>\n",
       "<style scoped>\n",
       "    .dataframe tbody tr th:only-of-type {\n",
       "        vertical-align: middle;\n",
       "    }\n",
       "\n",
       "    .dataframe tbody tr th {\n",
       "        vertical-align: top;\n",
       "    }\n",
       "\n",
       "    .dataframe thead th {\n",
       "        text-align: right;\n",
       "    }\n",
       "</style>\n",
       "<table border=\"1\" class=\"dataframe\">\n",
       "  <thead>\n",
       "    <tr style=\"text-align: right;\">\n",
       "      <th></th>\n",
       "      <th>rating</th>\n",
       "      <th>review</th>\n",
       "      <th>displayName</th>\n",
       "      <th>isVerified</th>\n",
       "      <th>isSuperReviewer</th>\n",
       "      <th>hasSpoilers</th>\n",
       "      <th>hasProfanity</th>\n",
       "      <th>score</th>\n",
       "      <th>timeFromCreation</th>\n",
       "      <th>user.displayName</th>\n",
       "      <th>user.accountLink</th>\n",
       "      <th>user.realm</th>\n",
       "      <th>user.userId</th>\n",
       "      <th>displayImageUrl</th>\n",
       "    </tr>\n",
       "  </thead>\n",
       "  <tbody>\n",
       "    <tr>\n",
       "      <th>0</th>\n",
       "      <td>3.5</td>\n",
       "      <td>O filme certo na hora errada. A narrativa do f...</td>\n",
       "      <td>Joo Paulo C</td>\n",
       "      <td>False</td>\n",
       "      <td>False</td>\n",
       "      <td>False</td>\n",
       "      <td>False</td>\n",
       "      <td>3.5</td>\n",
       "      <td>5h ago</td>\n",
       "      <td>Joo Paulo C</td>\n",
       "      <td>/user/id/979402311</td>\n",
       "      <td>RT</td>\n",
       "      <td>979402311</td>\n",
       "      <td>NaN</td>\n",
       "    </tr>\n",
       "    <tr>\n",
       "      <th>1</th>\n",
       "      <td>4.5</td>\n",
       "      <td>Very Awesome! I enjoyed it a lot. Would see ag...</td>\n",
       "      <td>Jack H</td>\n",
       "      <td>False</td>\n",
       "      <td>False</td>\n",
       "      <td>False</td>\n",
       "      <td>False</td>\n",
       "      <td>4.5</td>\n",
       "      <td>9h ago</td>\n",
       "      <td>Jack H</td>\n",
       "      <td>/user/id/979401921</td>\n",
       "      <td>RT</td>\n",
       "      <td>979401921</td>\n",
       "      <td>NaN</td>\n",
       "    </tr>\n",
       "    <tr>\n",
       "      <th>2</th>\n",
       "      <td>2.0</td>\n",
       "      <td>единственный плюс фильма это Красноармеец и водка</td>\n",
       "      <td></td>\n",
       "      <td>False</td>\n",
       "      <td>False</td>\n",
       "      <td>False</td>\n",
       "      <td>False</td>\n",
       "      <td>2.0</td>\n",
       "      <td>12h ago</td>\n",
       "      <td></td>\n",
       "      <td>/user/id/978449373</td>\n",
       "      <td>RT</td>\n",
       "      <td>978449373</td>\n",
       "      <td>https://graph.facebook.com/v3.3/19179871983467...</td>\n",
       "    </tr>\n",
       "  </tbody>\n",
       "</table>\n",
       "</div>"
      ],
      "text/plain": [
       "   rating                                             review  displayName  \\\n",
       "0     3.5  O filme certo na hora errada. A narrativa do f...  Joo Paulo C   \n",
       "1     4.5  Very Awesome! I enjoyed it a lot. Would see ag...       Jack H   \n",
       "2     2.0  единственный плюс фильма это Красноармеец и водка                \n",
       "\n",
       "   isVerified  isSuperReviewer  hasSpoilers  hasProfanity  score  \\\n",
       "0       False            False        False         False    3.5   \n",
       "1       False            False        False         False    4.5   \n",
       "2       False            False        False         False    2.0   \n",
       "\n",
       "  timeFromCreation user.displayName    user.accountLink user.realm  \\\n",
       "0           5h ago      Joo Paulo C  /user/id/979402311         RT   \n",
       "1           9h ago           Jack H  /user/id/979401921         RT   \n",
       "2          12h ago                   /user/id/978449373         RT   \n",
       "\n",
       "  user.userId                                    displayImageUrl  \n",
       "0   979402311                                                NaN  \n",
       "1   979401921                                                NaN  \n",
       "2   978449373  https://graph.facebook.com/v3.3/19179871983467...  "
      ]
     },
     "execution_count": 10,
     "metadata": {},
     "output_type": "execute_result"
    }
   ],
   "source": [
    "df_users.head(3)"
   ]
  },
  {
   "cell_type": "code",
   "execution_count": 11,
   "metadata": {},
   "outputs": [],
   "source": [
    "critics_review_text = ' '.join(df_critics['quote'])"
   ]
  },
  {
   "cell_type": "code",
   "execution_count": 12,
   "metadata": {},
   "outputs": [],
   "source": [
    "user_review_text = ' '.join(df_users['review'])"
   ]
  },
  {
   "cell_type": "code",
   "execution_count": 13,
   "metadata": {},
   "outputs": [],
   "source": [
    "#critics_review_text"
   ]
  },
  {
   "cell_type": "code",
   "execution_count": 14,
   "metadata": {},
   "outputs": [],
   "source": [
    "#user_review_text"
   ]
  },
  {
   "cell_type": "code",
   "execution_count": 15,
   "metadata": {},
   "outputs": [],
   "source": [
    "import nltk\n",
    "#nltk.download('punkt')\n",
    "#nltk.download('stopwords')"
   ]
  },
  {
   "cell_type": "code",
   "execution_count": 16,
   "metadata": {},
   "outputs": [],
   "source": [
    "from nltk.tokenize import word_tokenize\n",
    "from nltk.corpus import stopwords\n",
    "\n",
    "tokens_critics = []\n",
    "tokens_critics = word_tokenize(critics_review_text)"
   ]
  },
  {
   "cell_type": "code",
   "execution_count": 17,
   "metadata": {},
   "outputs": [
    {
     "name": "stdout",
     "output_type": "stream",
     "text": [
      "Number of Critics Tokens = 12240\n"
     ]
    }
   ],
   "source": [
    "print('Number of Critics Tokens =',len(tokens_critics))"
   ]
  },
  {
   "cell_type": "code",
   "execution_count": 18,
   "metadata": {},
   "outputs": [],
   "source": [
    "tokens_users = []\n",
    "tokens_users = word_tokenize(user_review_text)"
   ]
  },
  {
   "cell_type": "code",
   "execution_count": 19,
   "metadata": {},
   "outputs": [
    {
     "name": "stdout",
     "output_type": "stream",
     "text": [
      "Number of Users Tokens = 341788\n"
     ]
    }
   ],
   "source": [
    "print('Number of Users Tokens =',len(tokens_users))"
   ]
  },
  {
   "cell_type": "code",
   "execution_count": 20,
   "metadata": {},
   "outputs": [],
   "source": [
    "#converts to lower case, and removes punctuation and numbers\n",
    "wordsFiltered_critics = [tokens.lower() for tokens in tokens_critics if tokens.isalpha()]"
   ]
  },
  {
   "cell_type": "code",
   "execution_count": 21,
   "metadata": {},
   "outputs": [
    {
     "name": "stdout",
     "output_type": "stream",
     "text": [
      "10414\n"
     ]
    }
   ],
   "source": [
    "print(len(wordsFiltered_critics))"
   ]
  },
  {
   "cell_type": "code",
   "execution_count": 22,
   "metadata": {},
   "outputs": [],
   "source": [
    "#print(wordsFiltered)"
   ]
  },
  {
   "cell_type": "code",
   "execution_count": 23,
   "metadata": {},
   "outputs": [],
   "source": [
    "#User Reviews: converts to lower case, and removes punctuation and numbers\n",
    "wordsFiltered_users = [tokens.lower() for tokens in tokens_users if tokens.isalpha()]"
   ]
  },
  {
   "cell_type": "code",
   "execution_count": 24,
   "metadata": {},
   "outputs": [
    {
     "name": "stdout",
     "output_type": "stream",
     "text": [
      "294823\n"
     ]
    }
   ],
   "source": [
    "print(len(wordsFiltered_users))"
   ]
  },
  {
   "cell_type": "code",
   "execution_count": 25,
   "metadata": {},
   "outputs": [],
   "source": [
    "#We initialize the stopwords variable which is a list of words like \n",
    "#\"The\", \"I\", \"and\", etc. that don't hold much value as keywords\n",
    "stop_words = stopwords.words('english')\n",
    "#print(stop_words)"
   ]
  },
  {
   "cell_type": "code",
   "execution_count": 26,
   "metadata": {},
   "outputs": [],
   "source": [
    "#some extra stop words are needed after examining the data and word cloud\n",
    "#these are added\n",
    "extra_stop_words = ['movies','eternals','movie','verifed', 'tv','rotten', 'tomatoes', \n",
    "                    'season', 'verified','review','reviews','view', 'rt','marvel', 'contains','certified',\n",
    "                    'password','newsletter', 'critic','critics','next','prev','email','film','take','mcu',\n",
    "                    'one','full','much','feel','feels','thing','things', 'comic','universe','think']\n",
    "stop_words.extend(extra_stop_words)\n",
    "#print(stop_words)"
   ]
  },
  {
   "cell_type": "code",
   "execution_count": 27,
   "metadata": {},
   "outputs": [],
   "source": [
    "# remove stop words from bith tokenised data sets\n",
    "filtered_words_critics = [word for word in wordsFiltered_critics if word not in stop_words]"
   ]
  },
  {
   "cell_type": "code",
   "execution_count": 28,
   "metadata": {},
   "outputs": [],
   "source": [
    "# remove stop words from bith tokenised data sets\n",
    "filtered_words_users = [word for word in wordsFiltered_users if word not in stop_words]"
   ]
  },
  {
   "cell_type": "code",
   "execution_count": 29,
   "metadata": {},
   "outputs": [
    {
     "name": "stdout",
     "output_type": "stream",
     "text": [
      "5315\n"
     ]
    }
   ],
   "source": [
    "print(len(filtered_words_critics))"
   ]
  },
  {
   "cell_type": "code",
   "execution_count": 30,
   "metadata": {},
   "outputs": [],
   "source": [
    "#print(filtered_words)"
   ]
  },
  {
   "cell_type": "code",
   "execution_count": 31,
   "metadata": {},
   "outputs": [
    {
     "name": "stdout",
     "output_type": "stream",
     "text": [
      "142738\n"
     ]
    }
   ],
   "source": [
    "print(len(filtered_words_users))"
   ]
  },
  {
   "cell_type": "markdown",
   "metadata": {},
   "source": [
    "## Create the Word Cloud"
   ]
  },
  {
   "cell_type": "markdown",
   "metadata": {},
   "source": [
    "Finally we can create a word cloud backed on the finalised data set of tokenised words. Here we use the WordCloud library to create the word cloud and then the matplotlib library to display the image."
   ]
  },
  {
   "cell_type": "code",
   "execution_count": 32,
   "metadata": {},
   "outputs": [
    {
     "ename": "ModuleNotFoundError",
     "evalue": "No module named 'wordcloud'",
     "output_type": "error",
     "traceback": [
      "\u001b[1;31m---------------------------------------------------------------------------\u001b[0m",
      "\u001b[1;31mModuleNotFoundError\u001b[0m                       Traceback (most recent call last)",
      "\u001b[1;32m<ipython-input-32-21f1ef7ea8bf>\u001b[0m in \u001b[0;36m<module>\u001b[1;34m\u001b[0m\n\u001b[1;32m----> 1\u001b[1;33m \u001b[1;32mfrom\u001b[0m \u001b[0mwordcloud\u001b[0m \u001b[1;32mimport\u001b[0m \u001b[0mWordCloud\u001b[0m\u001b[1;33m,\u001b[0m \u001b[0mImageColorGenerator\u001b[0m\u001b[1;33m\u001b[0m\u001b[1;33m\u001b[0m\u001b[0m\n\u001b[0m\u001b[0;32m      2\u001b[0m \u001b[1;32mimport\u001b[0m \u001b[0mmatplotlib\u001b[0m\u001b[1;33m.\u001b[0m\u001b[0mpyplot\u001b[0m \u001b[1;32mas\u001b[0m \u001b[0mplt\u001b[0m\u001b[1;33m\u001b[0m\u001b[1;33m\u001b[0m\u001b[0m\n\u001b[0;32m      3\u001b[0m \u001b[1;32mimport\u001b[0m \u001b[0mnumpy\u001b[0m \u001b[1;32mas\u001b[0m \u001b[0mnp\u001b[0m\u001b[1;33m\u001b[0m\u001b[1;33m\u001b[0m\u001b[0m\n\u001b[0;32m      4\u001b[0m \u001b[1;32mfrom\u001b[0m \u001b[0mPIL\u001b[0m \u001b[1;32mimport\u001b[0m \u001b[0mImage\u001b[0m\u001b[1;33m\u001b[0m\u001b[1;33m\u001b[0m\u001b[0m\n",
      "\u001b[1;31mModuleNotFoundError\u001b[0m: No module named 'wordcloud'"
     ]
    }
   ],
   "source": [
    "from wordcloud import WordCloud, ImageColorGenerator\n",
    "import matplotlib.pyplot as plt\n",
    "import numpy as np\n",
    "from PIL import Image"
   ]
  },
  {
   "cell_type": "code",
   "execution_count": null,
   "metadata": {},
   "outputs": [],
   "source": [
    "mask_upcloud = np.array(Image.open(\"up_cloud.png\"))\n",
    "mask_downcloud = np.array(Image.open(\"down_cloud.png\"))"
   ]
  },
  {
   "cell_type": "code",
   "execution_count": null,
   "metadata": {},
   "outputs": [],
   "source": [
    "wc_critics = WordCloud(max_words=200, \n",
    "               margin=10, \n",
    "               background_color='white',\n",
    "               scale=3,                 # Scaling between computation and drawing\n",
    "               collocations=True,       # Whether to include collocations (bigrams) of two words. \n",
    "               normalize_plurals=True,  # Whether to remove trailing ‘s’ from words. \n",
    "               min_word_length=4,       # Minimum number of letters a word must have to include - ignore 2 or 3 letter words.\n",
    "               relative_scaling = 0.5,\n",
    "               mask=mask_upcloud,     # change shape of wordcloud into cloud shape\n",
    "               collocation_threshold=3, # Bigrams must have a Dunning likelihood collocation score greater than this \n",
    "                                        # parameter to be counted as bigrams.\n",
    "               width=700, height=400,\n",
    "               random_state=1).generate(' '.join(filtered_words_critics))"
   ]
  },
  {
   "cell_type": "code",
   "execution_count": null,
   "metadata": {},
   "outputs": [],
   "source": [
    "wc_users = WordCloud(max_words=200, \n",
    "               margin=10, \n",
    "               background_color='white',\n",
    "               scale=3,                 # Scaling between computation and drawing\n",
    "               collocations=True,       # Whether to include collocations (bigrams) of two words. \n",
    "               normalize_plurals=True,  # Whether to remove trailing ‘s’ from words. \n",
    "               min_word_length=4,       # Minimum number of letters a word must have to include - ignore 2 or 3 letter words.\n",
    "               relative_scaling = 0.5,\n",
    "               mask=mask_downcloud,     # change shape of wordcloud into cloud shape\n",
    "               collocation_threshold=3, # Bigrams must have a Dunning likelihood collocation score greater than this \n",
    "                                        # parameter to be counted as bigrams.\n",
    "               \n",
    "               color_func=lambda *args, **kwargs: (255,0,0),\n",
    "               width=700, height=400,\n",
    "               random_state=1).generate(' '.join(filtered_words_users))"
   ]
  },
  {
   "cell_type": "code",
   "execution_count": null,
   "metadata": {},
   "outputs": [],
   "source": [
    "#plt.figure(figsize=(20,10))\n",
    "#plt.imshow(wc)\n",
    "\n",
    "image_colors = ImageColorGenerator(mask_upcloud)\n",
    "wc_critics.recolor(color_func=image_colors)\n",
    "\n",
    "#plt.imshow(wc_critics, interpolation='bilinear')\n",
    "#plt.axis(\"off\")\n",
    "#plt.show()\n",
    "#wc.to_file(\"/wordcloud.png\")"
   ]
  },
  {
   "cell_type": "code",
   "execution_count": null,
   "metadata": {},
   "outputs": [],
   "source": [
    "#plt.figure(figsize=(20,10))\n",
    "#plt.imshow(wc_users, interpolation='bilinear')\n",
    "#plt.tight_layout(pad=0)\n",
    "#plt.axis(\"off\")\n",
    "#plt.show()"
   ]
  },
  {
   "cell_type": "code",
   "execution_count": null,
   "metadata": {},
   "outputs": [],
   "source": [
    "plt.figure(figsize=(45,20))\n",
    "\n",
    "plt.subplot(211)\n",
    "plt.imshow(wc_critics, interpolation='bilinear')\n",
    "plt.axis(\"off\")\n",
    "\n",
    "plt.subplot(212)\n",
    "plt.imshow(wc_users, interpolation='bilinear')\n",
    "plt.axis(\"off\")\n",
    "\n",
    "plt.subplots_adjust(hspace=-0.13)\n",
    "plt.suptitle('Rotten Tomtatoes - Comparison of Critic (Black) to User (Red) Reviews',fontweight =\"bold\", size=16, x=0.55, y=0.5)\n",
    "plt.show()"
   ]
  },
  {
   "cell_type": "markdown",
   "metadata": {},
   "source": [
    "## Word Cloud based on frequency counts"
   ]
  },
  {
   "cell_type": "markdown",
   "metadata": {},
   "source": [
    "Another alternative when using the WordCloud library is to generate a WordCloud based on the frequency counts. For this you need to build up a table containing two items. The first item is the distinct token and the second column contains the number of times that word/token appears in the text. The following code shows this code and the code to generate the word cloud based on this frequency count."
   ]
  },
  {
   "cell_type": "code",
   "execution_count": null,
   "metadata": {},
   "outputs": [],
   "source": [
    "from collections import Counter"
   ]
  },
  {
   "cell_type": "code",
   "execution_count": null,
   "metadata": {},
   "outputs": [],
   "source": [
    "# count frequencies\n",
    "cnt = Counter()\n",
    "for word in filtered_words:\n",
    "    cnt[word] += 1"
   ]
  },
  {
   "cell_type": "code",
   "execution_count": null,
   "metadata": {},
   "outputs": [],
   "source": [
    "#print(cnt)"
   ]
  },
  {
   "cell_type": "code",
   "execution_count": null,
   "metadata": {},
   "outputs": [],
   "source": [
    "from wordcloud import WordCloud\n",
    "import matplotlib.pyplot as plt"
   ]
  },
  {
   "cell_type": "code",
   "execution_count": null,
   "metadata": {},
   "outputs": [],
   "source": [
    "wc = WordCloud(max_words=1000, margin=10, background_color='white',\n",
    "               scale=3, \n",
    "               relative_scaling = 0.5, \n",
    "               collocation_threshold=100,\n",
    "               width=500, height=400,\n",
    "               random_state=1).generate_from_frequencies(cnt)"
   ]
  },
  {
   "cell_type": "code",
   "execution_count": null,
   "metadata": {},
   "outputs": [],
   "source": [
    "plt.figure(figsize=(20,10))\n",
    "plt.imshow(wc)\n",
    "plt.axis(\"off\")\n",
    "plt.show()"
   ]
  },
  {
   "cell_type": "code",
   "execution_count": null,
   "metadata": {},
   "outputs": [],
   "source": []
  }
 ],
 "metadata": {
  "kernelspec": {
   "display_name": "Python 3",
   "language": "python",
   "name": "python3"
  },
  "language_info": {
   "codemirror_mode": {
    "name": "ipython",
    "version": 3
   },
   "file_extension": ".py",
   "mimetype": "text/x-python",
   "name": "python",
   "nbconvert_exporter": "python",
   "pygments_lexer": "ipython3",
   "version": "3.8.8"
  },
  "toc": {
   "base_numbering": 1,
   "nav_menu": {},
   "number_sections": true,
   "sideBar": true,
   "skip_h1_title": false,
   "title_cell": "Table of Contents",
   "title_sidebar": "Contents",
   "toc_cell": false,
   "toc_position": {},
   "toc_section_display": true,
   "toc_window_display": false
  }
 },
 "nbformat": 4,
 "nbformat_minor": 4
}
